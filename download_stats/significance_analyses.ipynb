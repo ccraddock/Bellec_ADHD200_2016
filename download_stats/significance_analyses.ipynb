{
 "cells": [
  {
   "cell_type": "code",
   "execution_count": 1,
   "metadata": {
    "collapsed": true
   },
   "outputs": [],
   "source": [
    "%matplotlib inline\n",
    "import pandas as pd\n",
    "import matplotlib.pyplot as plt\n"
   ]
  },
  {
   "cell_type": "code",
   "execution_count": 32,
   "metadata": {
    "collapsed": false
   },
   "outputs": [],
   "source": [
    "dl_data=pd.read_csv(\"nitrc_download_report_20160605.csv\",sep=\",\",quotechar='\"',header=0,index_col=False)\n",
    "dl_data['Date']=pd.to_datetime(dl_data['Date'],format=\"%Y%m%d\")\n",
    "dl_counts=dl_data.groupby(['Date']).size()\n",
    "dl_counts=dl_counts.resample('M',how='sum')\n",
    "dl_counts.to_csv(\"download_counts.csv\")"
   ]
  },
  {
   "cell_type": "code",
   "execution_count": 33,
   "metadata": {
    "collapsed": false
   },
   "outputs": [],
   "source": [
    "for i in pd.unique(dl_data[\"Package\"]):\n",
    "    if 'ADHD200' not in i:\n",
    "        dl_data = dl_data[dl_data[\"Package\"]!=i]"
   ]
  },
  {
   "cell_type": "code",
   "execution_count": 43,
   "metadata": {
    "collapsed": false
   },
   "outputs": [
    {
     "data": {
      "text/plain": [
       "11716"
      ]
     },
     "execution_count": 43,
     "metadata": {},
     "output_type": "execute_result"
    }
   ],
   "source": [
    "len(dl_data)"
   ]
  },
  {
   "cell_type": "code",
   "execution_count": 34,
   "metadata": {
    "collapsed": false
   },
   "outputs": [
    {
     "data": {
      "text/plain": [
       "<matplotlib.text.Text at 0x117f3ed10>"
      ]
     },
     "execution_count": 34,
     "metadata": {},
     "output_type": "execute_result"
    },
    {
     "data": {
      "image/png": "[encoded data removed]",
      "text/plain": [
       "<matplotlib.figure.Figure at 0x117136c10>"
      ]
     },
     "metadata": {},
     "output_type": "display_data"
    }
   ],
   "source": [
    "count_plot=dl_counts.plot(kind=\"area\",xlim=(pd.Timestamp('2011-04-30'),pd.Timestamp('2016-02-29')))\n",
    "#row[0]=dt.datetime.strptime(row[0],\"%Y%m%d\")\n",
    "plt.ylabel(\"Download Counts\")"
   ]
  },
  {
   "cell_type": "code",
   "execution_count": 35,
   "metadata": {
    "collapsed": false
   },
   "outputs": [],
   "source": [
    "fig=count_plot.get_figure()\n",
    "fig.savefig(\"count_plot.pdf\")\n",
    "fig.savefig(\"count_plot.png\")"
   ]
  },
  {
   "cell_type": "code",
   "execution_count": 14,
   "metadata": {
    "collapsed": false
   },
   "outputs": [],
   "source": [
    "import bibtexparser as bp\n",
    "with open('adhd200_pubs.bib') as bibtex_file:\n",
    "    bibtex_str = bibtex_file.read()\n",
    "\n",
    "bib_database = bp.loads(bibtex_str)\n",
    "\n",
    "documents=[]\n",
    "\n",
    "for entry in bib_database.entries:\n",
    "    doc_year = pd.to_datetime(entry['year'])\n",
    "    if 'phdthesis' in entry['ENTRYTYPE']:\n",
    "        if 'master' in entry['type'].lower():\n",
    "            doc_type = 'Master\\'s Thesis'\n",
    "        else:\n",
    "            doc_type = 'PhD Dissertation'\n",
    "    elif 'inproceedings' in entry['ENTRYTYPE']:\n",
    "        doc_type = 'In Proceedings'\n",
    "    elif 'article' in entry['ENTRYTYPE']:\n",
    "        if 'keyword' in entry.keys() and 'arxiv' in entry['keyword']:\n",
    "            doc_type = 'arXiv E-print'\n",
    "        else:\n",
    "            doc_type = 'Journal'\n",
    "    else:\n",
    "        doc_type = 'Patent'\n",
    "    \n",
    "    if 'mendeley-tags' in entry:\n",
    "        documents.append((entry['year'],doc_type,entry['mendeley-tags']))\n",
    "    else:\n",
    "        print entry['ENTRYTYPE'], entry['ID']\n",
    "        \n",
    "documents_df = pd.DataFrame(documents,columns=('Year','Type','Subject'))"
   ]
  },
  {
   "cell_type": "code",
   "execution_count": 16,
   "metadata": {
    "collapsed": false
   },
   "outputs": [],
   "source": [
    "document_counts=documents_df.groupby(['Year','Type']).size().unstack().fillna(0)\n",
    "document_counts.to_csv('document_counts.csv')"
   ]
  },
  {
   "cell_type": "code",
   "execution_count": 17,
   "metadata": {
    "collapsed": false
   },
   "outputs": [
    {
     "data": {
      "text/plain": [
       "<matplotlib.text.Text at 0x11480ff10>"
      ]
     },
     "execution_count": 17,
     "metadata": {},
     "output_type": "execute_result"
    },
    {
     "data": {
      "image/png": "[encoded data removed]",
      "text/plain": [
       "<matplotlib.figure.Figure at 0x117918790>"
      ]
     },
     "metadata": {},
     "output_type": "display_data"
    }
   ],
   "source": [
    "plt_ax=document_counts.plot(kind='bar', stacked=True, legend=False, use_index=True,colormap='Set2',rot=0);\n",
    "plt_ax.legend(loc=(-0.05,-0.3), ncol=3, fontsize=\"medium\")\n",
    "plt.ylabel('Publication Count')"
   ]
  },
  {
   "cell_type": "markdown",
   "metadata": {},
   "source": [
    "print document_counts"
   ]
  },
  {
   "cell_type": "code",
   "execution_count": 11,
   "metadata": {
    "collapsed": false
   },
   "outputs": [],
   "source": [
    "subject_counts=documents_df.groupby(['Subject']).size().fillna(0)\n",
    "subject_counts.to_csv('subject_counts.csv')"
   ]
  },
  {
   "cell_type": "code",
   "execution_count": 45,
   "metadata": {
    "collapsed": false
   },
   "outputs": [
    {
     "data": {
      "text/plain": [
       "Type\n",
       "In Proceedings      14\n",
       "Journal             36\n",
       "Master's Thesis      3\n",
       "Patent               1\n",
       "PhD Dissertation     3\n",
       "arXiv E-print        4\n",
       "dtype: float64"
      ]
     },
     "execution_count": 45,
     "metadata": {},
     "output_type": "execute_result"
    }
   ],
   "source": [
    "document_counts.sum(0)"
   ]
  },
  {
   "cell_type": "code",
   "execution_count": null,
   "metadata": {
    "collapsed": true
   },
   "outputs": [],
   "source": []
  }
 ],
 "metadata": {
  "kernelspec": {
   "display_name": "Python 2",
   "language": "python",
   "name": "python2"
  },
  "language_info": {
   "codemirror_mode": {
    "name": "ipython",
    "version": 2
   },
   "file_extension": ".py",
   "mimetype": "text/x-python",
   "name": "python",
   "nbconvert_exporter": "python",
   "pygments_lexer": "ipython2",
   "version": "2.7.11"
  }
 },
 "nbformat": 4,
 "nbformat_minor": 0
}
